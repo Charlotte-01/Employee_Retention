{
  "nbformat": 4,
  "nbformat_minor": 0,
  "metadata": {
    "colab": {
      "name": "Employee_retention.ipynb",
      "provenance": [],
      "authorship_tag": "ABX9TyPCquyq1vrvi3nUVa7Pnz3k",
      "include_colab_link": true
    },
    "kernelspec": {
      "name": "python3",
      "display_name": "Python 3"
    }
  },
  "cells": [
    {
      "cell_type": "markdown",
      "metadata": {
        "id": "view-in-github",
        "colab_type": "text"
      },
      "source": [
        "<a href=\"https://colab.research.google.com/github/Charlotte-01/Employee_Retention/blob/master/Employee_retention.ipynb\" target=\"_parent\"><img src=\"https://colab.research.google.com/assets/colab-badge.svg\" alt=\"Open In Colab\"/></a>"
      ]
    },
    {
      "cell_type": "markdown",
      "metadata": {
        "id": "o7_X2gP9IJFz",
        "colab_type": "text"
      },
      "source": [
        "## **Connect to Google Drive**"
      ]
    },
    {
      "cell_type": "code",
      "metadata": {
        "id": "HfCQff1k3OJn",
        "colab_type": "code",
        "colab": {
          "base_uri": "https://localhost:8080/",
          "height": 54
        },
        "outputId": "71069184-72b7-49e9-e738-123d22929329"
      },
      "source": [
        "from google.colab import drive\n",
        "drive.mount('/content/gdrive')\n"
      ],
      "execution_count": 11,
      "outputs": [
        {
          "output_type": "stream",
          "text": [
            "Drive already mounted at /content/gdrive; to attempt to forcibly remount, call drive.mount(\"/content/gdrive\", force_remount=True).\n"
          ],
          "name": "stdout"
        }
      ]
    },
    {
      "cell_type": "code",
      "metadata": {
        "id": "EYBsiXYT6NS1",
        "colab_type": "code",
        "colab": {
          "base_uri": "https://localhost:8080/"
        },
        "outputId": "84d91cca-9d1a-413f-a03c-a421658aeb58"
      },
      "source": [
        "ls -ahl 'gdrive/My Drive/A collection of Data Science take-home challenge/Employee Retention'\n"
      ],
      "execution_count": 12,
      "outputs": [
        {
          "output_type": "stream",
          "text": [
            "total 1.3M\n",
            "-rw------- 1 root root 1.3M Jan  7  2019 employee_retention_data.csv\n"
          ],
          "name": "stdout"
        }
      ]
    },
    {
      "cell_type": "code",
      "metadata": {
        "id": "VrhR2z2J6sa4",
        "colab_type": "code",
        "colab": {}
      },
      "source": [
        "# import libraries\n",
        "import pandas as pd\n",
        "import numpy as np\n",
        "import matplotlib.pyplot as plt\n",
        "import seaborn as sns\n",
        "\n",
        "%matplotlib inline"
      ],
      "execution_count": 13,
      "outputs": []
    },
    {
      "cell_type": "markdown",
      "metadata": {
        "id": "-nHm5WAt7Y8j",
        "colab_type": "text"
      },
      "source": [
        "## **Data Explore**\n"
      ]
    },
    {
      "cell_type": "code",
      "metadata": {
        "id": "9OX51_td64M7",
        "colab_type": "code",
        "colab": {
          "base_uri": "https://localhost:8080/",
          "height": 204
        },
        "outputId": "bd3bec16-5ce7-42bb-9604-f2df5af39c8c"
      },
      "source": [
        "# Load Data\n",
        "df = pd.read_csv('gdrive/My Drive/A collection of Data Science take-home challenge/Employee Retention/employee_retention_data.csv')\n",
        "df.head()"
      ],
      "execution_count": 15,
      "outputs": [
        {
          "output_type": "execute_result",
          "data": {
            "text/html": [
              "<div>\n",
              "<style scoped>\n",
              "    .dataframe tbody tr th:only-of-type {\n",
              "        vertical-align: middle;\n",
              "    }\n",
              "\n",
              "    .dataframe tbody tr th {\n",
              "        vertical-align: top;\n",
              "    }\n",
              "\n",
              "    .dataframe thead th {\n",
              "        text-align: right;\n",
              "    }\n",
              "</style>\n",
              "<table border=\"1\" class=\"dataframe\">\n",
              "  <thead>\n",
              "    <tr style=\"text-align: right;\">\n",
              "      <th></th>\n",
              "      <th>employee_id</th>\n",
              "      <th>company_id</th>\n",
              "      <th>dept</th>\n",
              "      <th>seniority</th>\n",
              "      <th>salary</th>\n",
              "      <th>join_date</th>\n",
              "      <th>quit_date</th>\n",
              "    </tr>\n",
              "  </thead>\n",
              "  <tbody>\n",
              "    <tr>\n",
              "      <th>0</th>\n",
              "      <td>13021.0</td>\n",
              "      <td>7</td>\n",
              "      <td>customer_service</td>\n",
              "      <td>28</td>\n",
              "      <td>89000.0</td>\n",
              "      <td>2014-03-24</td>\n",
              "      <td>2015-10-30</td>\n",
              "    </tr>\n",
              "    <tr>\n",
              "      <th>1</th>\n",
              "      <td>825355.0</td>\n",
              "      <td>7</td>\n",
              "      <td>marketing</td>\n",
              "      <td>20</td>\n",
              "      <td>183000.0</td>\n",
              "      <td>2013-04-29</td>\n",
              "      <td>2014-04-04</td>\n",
              "    </tr>\n",
              "    <tr>\n",
              "      <th>2</th>\n",
              "      <td>927315.0</td>\n",
              "      <td>4</td>\n",
              "      <td>marketing</td>\n",
              "      <td>14</td>\n",
              "      <td>101000.0</td>\n",
              "      <td>2014-10-13</td>\n",
              "      <td>NaN</td>\n",
              "    </tr>\n",
              "    <tr>\n",
              "      <th>3</th>\n",
              "      <td>662910.0</td>\n",
              "      <td>7</td>\n",
              "      <td>customer_service</td>\n",
              "      <td>20</td>\n",
              "      <td>115000.0</td>\n",
              "      <td>2012-05-14</td>\n",
              "      <td>2013-06-07</td>\n",
              "    </tr>\n",
              "    <tr>\n",
              "      <th>4</th>\n",
              "      <td>256971.0</td>\n",
              "      <td>2</td>\n",
              "      <td>data_science</td>\n",
              "      <td>23</td>\n",
              "      <td>276000.0</td>\n",
              "      <td>2011-10-17</td>\n",
              "      <td>2014-08-22</td>\n",
              "    </tr>\n",
              "  </tbody>\n",
              "</table>\n",
              "</div>"
            ],
            "text/plain": [
              "   employee_id  company_id              dept  ...    salary   join_date   quit_date\n",
              "0      13021.0           7  customer_service  ...   89000.0  2014-03-24  2015-10-30\n",
              "1     825355.0           7         marketing  ...  183000.0  2013-04-29  2014-04-04\n",
              "2     927315.0           4         marketing  ...  101000.0  2014-10-13         NaN\n",
              "3     662910.0           7  customer_service  ...  115000.0  2012-05-14  2013-06-07\n",
              "4     256971.0           2      data_science  ...  276000.0  2011-10-17  2014-08-22\n",
              "\n",
              "[5 rows x 7 columns]"
            ]
          },
          "metadata": {
            "tags": []
          },
          "execution_count": 15
        }
      ]
    },
    {
      "cell_type": "code",
      "metadata": {
        "id": "9Ox3JagMKfyR",
        "colab_type": "code",
        "colab": {
          "base_uri": "https://localhost:8080/",
          "height": 255
        },
        "outputId": "61685bd8-8d35-4c69-e9a1-2a88dbed96fa"
      },
      "source": [
        "df.info()"
      ],
      "execution_count": 17,
      "outputs": [
        {
          "output_type": "stream",
          "text": [
            "<class 'pandas.core.frame.DataFrame'>\n",
            "RangeIndex: 24702 entries, 0 to 24701\n",
            "Data columns (total 7 columns):\n",
            " #   Column       Non-Null Count  Dtype  \n",
            "---  ------       --------------  -----  \n",
            " 0   employee_id  24702 non-null  float64\n",
            " 1   company_id   24702 non-null  int64  \n",
            " 2   dept         24702 non-null  object \n",
            " 3   seniority    24702 non-null  int64  \n",
            " 4   salary       24702 non-null  float64\n",
            " 5   join_date    24702 non-null  object \n",
            " 6   quit_date    13510 non-null  object \n",
            "dtypes: float64(2), int64(2), object(3)\n",
            "memory usage: 1.3+ MB\n"
          ],
          "name": "stdout"
        }
      ]
    },
    {
      "cell_type": "code",
      "metadata": {
        "id": "ALyT3tBSMAZ-",
        "colab_type": "code",
        "colab": {
          "base_uri": "https://localhost:8080/",
          "height": 297
        },
        "outputId": "0e712001-bf66-4c8a-e762-571ad7c40e8c"
      },
      "source": [
        "df.describe()"
      ],
      "execution_count": 28,
      "outputs": [
        {
          "output_type": "execute_result",
          "data": {
            "text/html": [
              "<div>\n",
              "<style scoped>\n",
              "    .dataframe tbody tr th:only-of-type {\n",
              "        vertical-align: middle;\n",
              "    }\n",
              "\n",
              "    .dataframe tbody tr th {\n",
              "        vertical-align: top;\n",
              "    }\n",
              "\n",
              "    .dataframe thead th {\n",
              "        text-align: right;\n",
              "    }\n",
              "</style>\n",
              "<table border=\"1\" class=\"dataframe\">\n",
              "  <thead>\n",
              "    <tr style=\"text-align: right;\">\n",
              "      <th></th>\n",
              "      <th>employee_id</th>\n",
              "      <th>company_id</th>\n",
              "      <th>seniority</th>\n",
              "      <th>salary</th>\n",
              "    </tr>\n",
              "  </thead>\n",
              "  <tbody>\n",
              "    <tr>\n",
              "      <th>count</th>\n",
              "      <td>24702.000000</td>\n",
              "      <td>24702.000000</td>\n",
              "      <td>24702.000000</td>\n",
              "      <td>24702.000000</td>\n",
              "    </tr>\n",
              "    <tr>\n",
              "      <th>mean</th>\n",
              "      <td>501604.403530</td>\n",
              "      <td>3.426969</td>\n",
              "      <td>14.127803</td>\n",
              "      <td>138183.345478</td>\n",
              "    </tr>\n",
              "    <tr>\n",
              "      <th>std</th>\n",
              "      <td>288909.026101</td>\n",
              "      <td>2.700011</td>\n",
              "      <td>8.089520</td>\n",
              "      <td>76058.184573</td>\n",
              "    </tr>\n",
              "    <tr>\n",
              "      <th>min</th>\n",
              "      <td>36.000000</td>\n",
              "      <td>1.000000</td>\n",
              "      <td>1.000000</td>\n",
              "      <td>17000.000000</td>\n",
              "    </tr>\n",
              "    <tr>\n",
              "      <th>25%</th>\n",
              "      <td>250133.750000</td>\n",
              "      <td>1.000000</td>\n",
              "      <td>7.000000</td>\n",
              "      <td>79000.000000</td>\n",
              "    </tr>\n",
              "    <tr>\n",
              "      <th>50%</th>\n",
              "      <td>500793.000000</td>\n",
              "      <td>2.000000</td>\n",
              "      <td>14.000000</td>\n",
              "      <td>123000.000000</td>\n",
              "    </tr>\n",
              "    <tr>\n",
              "      <th>75%</th>\n",
              "      <td>753137.250000</td>\n",
              "      <td>5.000000</td>\n",
              "      <td>21.000000</td>\n",
              "      <td>187000.000000</td>\n",
              "    </tr>\n",
              "    <tr>\n",
              "      <th>max</th>\n",
              "      <td>999969.000000</td>\n",
              "      <td>12.000000</td>\n",
              "      <td>99.000000</td>\n",
              "      <td>408000.000000</td>\n",
              "    </tr>\n",
              "  </tbody>\n",
              "</table>\n",
              "</div>"
            ],
            "text/plain": [
              "         employee_id    company_id     seniority         salary\n",
              "count   24702.000000  24702.000000  24702.000000   24702.000000\n",
              "mean   501604.403530      3.426969     14.127803  138183.345478\n",
              "std    288909.026101      2.700011      8.089520   76058.184573\n",
              "min        36.000000      1.000000      1.000000   17000.000000\n",
              "25%    250133.750000      1.000000      7.000000   79000.000000\n",
              "50%    500793.000000      2.000000     14.000000  123000.000000\n",
              "75%    753137.250000      5.000000     21.000000  187000.000000\n",
              "max    999969.000000     12.000000     99.000000  408000.000000"
            ]
          },
          "metadata": {
            "tags": []
          },
          "execution_count": 28
        }
      ]
    },
    {
      "cell_type": "code",
      "metadata": {
        "id": "eBhzR-MPLpb2",
        "colab_type": "code",
        "colab": {
          "base_uri": "https://localhost:8080/",
          "height": 266
        },
        "outputId": "efc6f906-b1dc-4dbc-bd4b-95b7bcb1bd0e"
      },
      "source": [
        "# average salary and seniority in each department.\n",
        "df.groupby('dept')[['seniority','salary']].mean()"
      ],
      "execution_count": 29,
      "outputs": [
        {
          "output_type": "execute_result",
          "data": {
            "text/html": [
              "<div>\n",
              "<style scoped>\n",
              "    .dataframe tbody tr th:only-of-type {\n",
              "        vertical-align: middle;\n",
              "    }\n",
              "\n",
              "    .dataframe tbody tr th {\n",
              "        vertical-align: top;\n",
              "    }\n",
              "\n",
              "    .dataframe thead th {\n",
              "        text-align: right;\n",
              "    }\n",
              "</style>\n",
              "<table border=\"1\" class=\"dataframe\">\n",
              "  <thead>\n",
              "    <tr style=\"text-align: right;\">\n",
              "      <th></th>\n",
              "      <th>seniority</th>\n",
              "      <th>salary</th>\n",
              "    </tr>\n",
              "    <tr>\n",
              "      <th>dept</th>\n",
              "      <th></th>\n",
              "      <th></th>\n",
              "    </tr>\n",
              "  </thead>\n",
              "  <tbody>\n",
              "    <tr>\n",
              "      <th>customer_service</th>\n",
              "      <td>14.171133</td>\n",
              "      <td>82245.424837</td>\n",
              "    </tr>\n",
              "    <tr>\n",
              "      <th>data_science</th>\n",
              "      <td>14.189028</td>\n",
              "      <td>206885.893417</td>\n",
              "    </tr>\n",
              "    <tr>\n",
              "      <th>design</th>\n",
              "      <td>14.197826</td>\n",
              "      <td>137460.869565</td>\n",
              "    </tr>\n",
              "    <tr>\n",
              "      <th>engineer</th>\n",
              "      <td>14.172122</td>\n",
              "      <td>205544.548016</td>\n",
              "    </tr>\n",
              "    <tr>\n",
              "      <th>marketing</th>\n",
              "      <td>13.993685</td>\n",
              "      <td>135598.042311</td>\n",
              "    </tr>\n",
              "    <tr>\n",
              "      <th>sales</th>\n",
              "      <td>13.979823</td>\n",
              "      <td>135912.358134</td>\n",
              "    </tr>\n",
              "  </tbody>\n",
              "</table>\n",
              "</div>"
            ],
            "text/plain": [
              "                  seniority         salary\n",
              "dept                                      \n",
              "customer_service  14.171133   82245.424837\n",
              "data_science      14.189028  206885.893417\n",
              "design            14.197826  137460.869565\n",
              "engineer          14.172122  205544.548016\n",
              "marketing         13.993685  135598.042311\n",
              "sales             13.979823  135912.358134"
            ]
          },
          "metadata": {
            "tags": []
          },
          "execution_count": 29
        }
      ]
    },
    {
      "cell_type": "markdown",
      "metadata": {
        "id": "1KKL6A_YNYIA",
        "colab_type": "text"
      },
      "source": [
        "#### Notice:\n",
        "The average salary of data and engineer departments are much higher than other departments.\n"
      ]
    },
    {
      "cell_type": "code",
      "metadata": {
        "id": "kyc6JcU6NqMC",
        "colab_type": "code",
        "colab": {
          "base_uri": "https://localhost:8080/",
          "height": 204
        },
        "outputId": "d63a833b-2f9d-41b0-9b8f-13b0387bb47a"
      },
      "source": [
        "# drop the employee still in the company\n",
        "df_l = df.dropna(subset=['quit_date'])\n",
        "df_l.head()"
      ],
      "execution_count": 35,
      "outputs": [
        {
          "output_type": "execute_result",
          "data": {
            "text/html": [
              "<div>\n",
              "<style scoped>\n",
              "    .dataframe tbody tr th:only-of-type {\n",
              "        vertical-align: middle;\n",
              "    }\n",
              "\n",
              "    .dataframe tbody tr th {\n",
              "        vertical-align: top;\n",
              "    }\n",
              "\n",
              "    .dataframe thead th {\n",
              "        text-align: right;\n",
              "    }\n",
              "</style>\n",
              "<table border=\"1\" class=\"dataframe\">\n",
              "  <thead>\n",
              "    <tr style=\"text-align: right;\">\n",
              "      <th></th>\n",
              "      <th>employee_id</th>\n",
              "      <th>company_id</th>\n",
              "      <th>dept</th>\n",
              "      <th>seniority</th>\n",
              "      <th>salary</th>\n",
              "      <th>join_date</th>\n",
              "      <th>quit_date</th>\n",
              "    </tr>\n",
              "  </thead>\n",
              "  <tbody>\n",
              "    <tr>\n",
              "      <th>0</th>\n",
              "      <td>13021.0</td>\n",
              "      <td>7</td>\n",
              "      <td>customer_service</td>\n",
              "      <td>28</td>\n",
              "      <td>89000.0</td>\n",
              "      <td>2014-03-24</td>\n",
              "      <td>2015-10-30</td>\n",
              "    </tr>\n",
              "    <tr>\n",
              "      <th>1</th>\n",
              "      <td>825355.0</td>\n",
              "      <td>7</td>\n",
              "      <td>marketing</td>\n",
              "      <td>20</td>\n",
              "      <td>183000.0</td>\n",
              "      <td>2013-04-29</td>\n",
              "      <td>2014-04-04</td>\n",
              "    </tr>\n",
              "    <tr>\n",
              "      <th>3</th>\n",
              "      <td>662910.0</td>\n",
              "      <td>7</td>\n",
              "      <td>customer_service</td>\n",
              "      <td>20</td>\n",
              "      <td>115000.0</td>\n",
              "      <td>2012-05-14</td>\n",
              "      <td>2013-06-07</td>\n",
              "    </tr>\n",
              "    <tr>\n",
              "      <th>4</th>\n",
              "      <td>256971.0</td>\n",
              "      <td>2</td>\n",
              "      <td>data_science</td>\n",
              "      <td>23</td>\n",
              "      <td>276000.0</td>\n",
              "      <td>2011-10-17</td>\n",
              "      <td>2014-08-22</td>\n",
              "    </tr>\n",
              "    <tr>\n",
              "      <th>5</th>\n",
              "      <td>509529.0</td>\n",
              "      <td>4</td>\n",
              "      <td>data_science</td>\n",
              "      <td>14</td>\n",
              "      <td>165000.0</td>\n",
              "      <td>2012-01-30</td>\n",
              "      <td>2013-08-30</td>\n",
              "    </tr>\n",
              "  </tbody>\n",
              "</table>\n",
              "</div>"
            ],
            "text/plain": [
              "   employee_id  company_id              dept  ...    salary   join_date   quit_date\n",
              "0      13021.0           7  customer_service  ...   89000.0  2014-03-24  2015-10-30\n",
              "1     825355.0           7         marketing  ...  183000.0  2013-04-29  2014-04-04\n",
              "3     662910.0           7  customer_service  ...  115000.0  2012-05-14  2013-06-07\n",
              "4     256971.0           2      data_science  ...  276000.0  2011-10-17  2014-08-22\n",
              "5     509529.0           4      data_science  ...  165000.0  2012-01-30  2013-08-30\n",
              "\n",
              "[5 rows x 7 columns]"
            ]
          },
          "metadata": {
            "tags": []
          },
          "execution_count": 35
        }
      ]
    },
    {
      "cell_type": "code",
      "metadata": {
        "id": "93OxH8iKUKTd",
        "colab_type": "code",
        "colab": {
          "base_uri": "https://localhost:8080/",
          "height": 153
        },
        "outputId": "a37a9eb3-6d49-456a-bb22-b59d482853c0"
      },
      "source": [
        "# Check totall NA in the datasets\n",
        "df.isnull().sum()\n",
        "#df_a = df.fillna(df['quit_date'] =='2015-12-13')\n",
        "#df_a.head()"
      ],
      "execution_count": 44,
      "outputs": [
        {
          "output_type": "execute_result",
          "data": {
            "text/plain": [
              "employee_id        0\n",
              "company_id         0\n",
              "dept               0\n",
              "seniority          0\n",
              "salary             0\n",
              "join_date          0\n",
              "quit_date      11192\n",
              "dtype: int64"
            ]
          },
          "metadata": {
            "tags": []
          },
          "execution_count": 44
        }
      ]
    },
    {
      "cell_type": "code",
      "metadata": {
        "id": "qozZmQENU7Xs",
        "colab_type": "code",
        "colab": {
          "base_uri": "https://localhost:8080/",
          "height": 204
        },
        "outputId": "fbceb872-e240-40ff-b793-9579163afbec"
      },
      "source": [
        "# fill the last_day as 2015/12/13 for current employee, since na only in the quit_date\n",
        "df_a = df.fillna('2015-12-13')\n",
        "df_a.head()"
      ],
      "execution_count": 45,
      "outputs": [
        {
          "output_type": "execute_result",
          "data": {
            "text/html": [
              "<div>\n",
              "<style scoped>\n",
              "    .dataframe tbody tr th:only-of-type {\n",
              "        vertical-align: middle;\n",
              "    }\n",
              "\n",
              "    .dataframe tbody tr th {\n",
              "        vertical-align: top;\n",
              "    }\n",
              "\n",
              "    .dataframe thead th {\n",
              "        text-align: right;\n",
              "    }\n",
              "</style>\n",
              "<table border=\"1\" class=\"dataframe\">\n",
              "  <thead>\n",
              "    <tr style=\"text-align: right;\">\n",
              "      <th></th>\n",
              "      <th>employee_id</th>\n",
              "      <th>company_id</th>\n",
              "      <th>dept</th>\n",
              "      <th>seniority</th>\n",
              "      <th>salary</th>\n",
              "      <th>join_date</th>\n",
              "      <th>quit_date</th>\n",
              "    </tr>\n",
              "  </thead>\n",
              "  <tbody>\n",
              "    <tr>\n",
              "      <th>0</th>\n",
              "      <td>13021.0</td>\n",
              "      <td>7</td>\n",
              "      <td>customer_service</td>\n",
              "      <td>28</td>\n",
              "      <td>89000.0</td>\n",
              "      <td>2014-03-24</td>\n",
              "      <td>2015-10-30</td>\n",
              "    </tr>\n",
              "    <tr>\n",
              "      <th>1</th>\n",
              "      <td>825355.0</td>\n",
              "      <td>7</td>\n",
              "      <td>marketing</td>\n",
              "      <td>20</td>\n",
              "      <td>183000.0</td>\n",
              "      <td>2013-04-29</td>\n",
              "      <td>2014-04-04</td>\n",
              "    </tr>\n",
              "    <tr>\n",
              "      <th>2</th>\n",
              "      <td>927315.0</td>\n",
              "      <td>4</td>\n",
              "      <td>marketing</td>\n",
              "      <td>14</td>\n",
              "      <td>101000.0</td>\n",
              "      <td>2014-10-13</td>\n",
              "      <td>2015-12-13</td>\n",
              "    </tr>\n",
              "    <tr>\n",
              "      <th>3</th>\n",
              "      <td>662910.0</td>\n",
              "      <td>7</td>\n",
              "      <td>customer_service</td>\n",
              "      <td>20</td>\n",
              "      <td>115000.0</td>\n",
              "      <td>2012-05-14</td>\n",
              "      <td>2013-06-07</td>\n",
              "    </tr>\n",
              "    <tr>\n",
              "      <th>4</th>\n",
              "      <td>256971.0</td>\n",
              "      <td>2</td>\n",
              "      <td>data_science</td>\n",
              "      <td>23</td>\n",
              "      <td>276000.0</td>\n",
              "      <td>2011-10-17</td>\n",
              "      <td>2014-08-22</td>\n",
              "    </tr>\n",
              "  </tbody>\n",
              "</table>\n",
              "</div>"
            ],
            "text/plain": [
              "   employee_id  company_id              dept  ...    salary   join_date   quit_date\n",
              "0      13021.0           7  customer_service  ...   89000.0  2014-03-24  2015-10-30\n",
              "1     825355.0           7         marketing  ...  183000.0  2013-04-29  2014-04-04\n",
              "2     927315.0           4         marketing  ...  101000.0  2014-10-13  2015-12-13\n",
              "3     662910.0           7  customer_service  ...  115000.0  2012-05-14  2013-06-07\n",
              "4     256971.0           2      data_science  ...  276000.0  2011-10-17  2014-08-22\n",
              "\n",
              "[5 rows x 7 columns]"
            ]
          },
          "metadata": {
            "tags": []
          },
          "execution_count": 45
        }
      ]
    },
    {
      "cell_type": "markdown",
      "metadata": {
        "id": "0vnrQFzgKUoM",
        "colab_type": "text"
      },
      "source": [
        "## **Create a table with 3 columns: day, employee_headcount, company_id.**"
      ]
    },
    {
      "cell_type": "code",
      "metadata": {
        "id": "T8kSTqyeSrMl",
        "colab_type": "code",
        "colab": {}
      },
      "source": [
        "# Create list\n",
        "Day_list = pd.date_range(start='2011-01-24', end='2015-12-13', freq='D')\n",
        "Company_list = sorted(df['company_id'].unique())\n",
        "\n",
        "day =[]\n",
        "employee_headcount=[]\n",
        "company_id =[]\n",
        "\n",
        "for i in "
      ],
      "execution_count": 39,
      "outputs": []
    },
    {
      "cell_type": "code",
      "metadata": {
        "id": "QFz_mvo-VtqP",
        "colab_type": "code",
        "colab": {
          "base_uri": "https://localhost:8080/",
          "height": 34
        },
        "outputId": "76449aa5-b87e-4f6f-c48e-297363935827"
      },
      "source": [
        ""
      ],
      "execution_count": 50,
      "outputs": [
        {
          "output_type": "execute_result",
          "data": {
            "text/plain": [
              "[1, 2, 3, 4, 5, 6, 7, 8, 9, 10, 11, 12]"
            ]
          },
          "metadata": {
            "tags": []
          },
          "execution_count": 50
        }
      ]
    },
    {
      "cell_type": "markdown",
      "metadata": {
        "id": "f7beogCEKXkW",
        "colab_type": "text"
      },
      "source": [
        "What are the main factors that drive employee churn? Do they make sense? Explain your findings."
      ]
    },
    {
      "cell_type": "markdown",
      "metadata": {
        "id": "w9YC_DGwKarR",
        "colab_type": "text"
      },
      "source": [
        "If you could add to this data set just one variable that could help explain employee churn, what would that be?"
      ]
    },
    {
      "cell_type": "code",
      "metadata": {
        "id": "8qPqb6eDIWPI",
        "colab_type": "code",
        "colab": {}
      },
      "source": [
        ""
      ],
      "execution_count": 14,
      "outputs": []
    }
  ]
}