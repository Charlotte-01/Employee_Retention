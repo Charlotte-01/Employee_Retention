{
  "nbformat": 4,
  "nbformat_minor": 0,
  "metadata": {
    "colab": {
      "name": "Employee_retention.ipynb",
      "provenance": [],
      "authorship_tag": "ABX9TyOzHpzj5bUbPu+P+Xzxjr7d",
      "include_colab_link": true
    },
    "kernelspec": {
      "name": "python3",
      "display_name": "Python 3"
    }
  },
  "cells": [
    {
      "cell_type": "markdown",
      "metadata": {
        "id": "view-in-github",
        "colab_type": "text"
      },
      "source": [
        "<a href=\"https://colab.research.google.com/github/Charlotte-01/Employee_Retention/blob/master/Employee_retention.ipynb\" target=\"_parent\"><img src=\"https://colab.research.google.com/assets/colab-badge.svg\" alt=\"Open In Colab\"/></a>"
      ]
    },
    {
      "cell_type": "code",
      "metadata": {
        "id": "HfCQff1k3OJn",
        "colab_type": "code",
        "colab": {
          "base_uri": "https://localhost:8080/",
          "height": 122
        },
        "outputId": "6d941070-c800-4493-8c9d-aabd8d7a271c"
      },
      "source": [
        "from google.colab import drive\n",
        "drive.mount('/content/gdrive')\n"
      ],
      "execution_count": 1,
      "outputs": [
        {
          "output_type": "stream",
          "text": [
            "Go to this URL in a browser: https://accounts.google.com/o/oauth2/auth?client_id=947318989803-6bn6qk8qdgf4n4g3pfee6491hc0brc4i.apps.googleusercontent.com&redirect_uri=urn%3aietf%3awg%3aoauth%3a2.0%3aoob&response_type=code&scope=email%20https%3a%2f%2fwww.googleapis.com%2fauth%2fdocs.test%20https%3a%2f%2fwww.googleapis.com%2fauth%2fdrive%20https%3a%2f%2fwww.googleapis.com%2fauth%2fdrive.photos.readonly%20https%3a%2f%2fwww.googleapis.com%2fauth%2fpeopleapi.readonly\n",
            "\n",
            "Enter your authorization code:\n",
            "··········\n",
            "Mounted at /content/gdrive\n"
          ],
          "name": "stdout"
        }
      ]
    },
    {
      "cell_type": "code",
      "metadata": {
        "id": "EYBsiXYT6NS1",
        "colab_type": "code",
        "colab": {
          "base_uri": "https://localhost:8080/",
          "height": 51
        },
        "outputId": "91c09fa2-ec8c-40c6-d298-09d5898a9556"
      },
      "source": [
        "ls -ahl 'gdrive/My Drive/A collection of Data Science take-home challenge/Employee Retention'\n"
      ],
      "execution_count": 7,
      "outputs": [
        {
          "output_type": "stream",
          "text": [
            "total 1.3M\n",
            "-rw------- 1 root root 1.3M Jan  7  2019 employee_retention_data.csv\n"
          ],
          "name": "stdout"
        }
      ]
    },
    {
      "cell_type": "code",
      "metadata": {
        "id": "VrhR2z2J6sa4",
        "colab_type": "code",
        "colab": {}
      },
      "source": [
        "# import libraries\n",
        "import pandas as pd\n",
        "import numpy as np\n",
        "import matplotlib.pyplot as plt\n",
        "import seaborn as sns\n",
        "\n",
        "%matplotlib inline"
      ],
      "execution_count": 9,
      "outputs": []
    },
    {
      "cell_type": "markdown",
      "metadata": {
        "id": "-nHm5WAt7Y8j",
        "colab_type": "text"
      },
      "source": [
        "Data Explore\n"
      ]
    },
    {
      "cell_type": "code",
      "metadata": {
        "id": "9OX51_td64M7",
        "colab_type": "code",
        "colab": {
          "base_uri": "https://localhost:8080/",
          "height": 204
        },
        "outputId": "ffed9796-4a22-49ca-b823-57a78bef7ba2"
      },
      "source": [
        "df = pd.read_csv('gdrive/My Drive/A collection of Data Science take-home challenge/Employee Retention/employee_retention_data.csv')\n",
        "df.head()"
      ],
      "execution_count": 10,
      "outputs": [
        {
          "output_type": "execute_result",
          "data": {
            "text/html": [
              "<div>\n",
              "<style scoped>\n",
              "    .dataframe tbody tr th:only-of-type {\n",
              "        vertical-align: middle;\n",
              "    }\n",
              "\n",
              "    .dataframe tbody tr th {\n",
              "        vertical-align: top;\n",
              "    }\n",
              "\n",
              "    .dataframe thead th {\n",
              "        text-align: right;\n",
              "    }\n",
              "</style>\n",
              "<table border=\"1\" class=\"dataframe\">\n",
              "  <thead>\n",
              "    <tr style=\"text-align: right;\">\n",
              "      <th></th>\n",
              "      <th>employee_id</th>\n",
              "      <th>company_id</th>\n",
              "      <th>dept</th>\n",
              "      <th>seniority</th>\n",
              "      <th>salary</th>\n",
              "      <th>join_date</th>\n",
              "      <th>quit_date</th>\n",
              "    </tr>\n",
              "  </thead>\n",
              "  <tbody>\n",
              "    <tr>\n",
              "      <th>0</th>\n",
              "      <td>13021.0</td>\n",
              "      <td>7</td>\n",
              "      <td>customer_service</td>\n",
              "      <td>28</td>\n",
              "      <td>89000.0</td>\n",
              "      <td>2014-03-24</td>\n",
              "      <td>2015-10-30</td>\n",
              "    </tr>\n",
              "    <tr>\n",
              "      <th>1</th>\n",
              "      <td>825355.0</td>\n",
              "      <td>7</td>\n",
              "      <td>marketing</td>\n",
              "      <td>20</td>\n",
              "      <td>183000.0</td>\n",
              "      <td>2013-04-29</td>\n",
              "      <td>2014-04-04</td>\n",
              "    </tr>\n",
              "    <tr>\n",
              "      <th>2</th>\n",
              "      <td>927315.0</td>\n",
              "      <td>4</td>\n",
              "      <td>marketing</td>\n",
              "      <td>14</td>\n",
              "      <td>101000.0</td>\n",
              "      <td>2014-10-13</td>\n",
              "      <td>NaN</td>\n",
              "    </tr>\n",
              "    <tr>\n",
              "      <th>3</th>\n",
              "      <td>662910.0</td>\n",
              "      <td>7</td>\n",
              "      <td>customer_service</td>\n",
              "      <td>20</td>\n",
              "      <td>115000.0</td>\n",
              "      <td>2012-05-14</td>\n",
              "      <td>2013-06-07</td>\n",
              "    </tr>\n",
              "    <tr>\n",
              "      <th>4</th>\n",
              "      <td>256971.0</td>\n",
              "      <td>2</td>\n",
              "      <td>data_science</td>\n",
              "      <td>23</td>\n",
              "      <td>276000.0</td>\n",
              "      <td>2011-10-17</td>\n",
              "      <td>2014-08-22</td>\n",
              "    </tr>\n",
              "  </tbody>\n",
              "</table>\n",
              "</div>"
            ],
            "text/plain": [
              "   employee_id  company_id              dept  ...    salary   join_date   quit_date\n",
              "0      13021.0           7  customer_service  ...   89000.0  2014-03-24  2015-10-30\n",
              "1     825355.0           7         marketing  ...  183000.0  2013-04-29  2014-04-04\n",
              "2     927315.0           4         marketing  ...  101000.0  2014-10-13         NaN\n",
              "3     662910.0           7  customer_service  ...  115000.0  2012-05-14  2013-06-07\n",
              "4     256971.0           2      data_science  ...  276000.0  2011-10-17  2014-08-22\n",
              "\n",
              "[5 rows x 7 columns]"
            ]
          },
          "metadata": {
            "tags": []
          },
          "execution_count": 10
        }
      ]
    }
  ]
}